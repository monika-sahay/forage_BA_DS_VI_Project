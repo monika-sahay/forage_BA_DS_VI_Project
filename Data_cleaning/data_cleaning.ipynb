{
 "cells": [
  {
   "attachments": {},
   "cell_type": "markdown",
   "metadata": {},
   "source": [
    "# Data Cleaning: Preparing Extracted Data for Analysis\n",
    "After extracting the data from the website, it is essential to perform data cleaning before analyzing it. The reviews section requires cleaning to remove punctuation marks, correct spellings, and eliminate other unwanted characters. Data cleaning ensures that the data is in a standardized and consistent format, enabling accurate analysis."
   ]
  },
  {
   "cell_type": "code",
   "execution_count": 1,
   "metadata": {},
   "outputs": [],
   "source": [
    "#imports\n",
    "\n",
    "import pandas as pd\n",
    "import matplotlib.pyplot as plt\n",
    "import seaborn as sns\n",
    "import os\n",
    "\n",
    "#regex\n",
    "import re"
   ]
  },
  {
   "cell_type": "code",
   "execution_count": 2,
   "metadata": {},
   "outputs": [],
   "source": [
    "#create a dataframe from csv file\n",
    "\n",
    "cwd = os.getcwd()\n",
    "\n",
    "df = pd.read_csv(cwd+\"/../Data_collection/BA_reviews.csv\", index_col=0)"
   ]
  },
  {
   "cell_type": "code",
   "execution_count": 3,
   "metadata": {},
   "outputs": [
    {
     "data": {
      "text/html": [
       "<div>\n",
       "<style scoped>\n",
       "    .dataframe tbody tr th:only-of-type {\n",
       "        vertical-align: middle;\n",
       "    }\n",
       "\n",
       "    .dataframe tbody tr th {\n",
       "        vertical-align: top;\n",
       "    }\n",
       "\n",
       "    .dataframe thead th {\n",
       "        text-align: right;\n",
       "    }\n",
       "</style>\n",
       "<table border=\"1\" class=\"dataframe\">\n",
       "  <thead>\n",
       "    <tr style=\"text-align: right;\">\n",
       "      <th></th>\n",
       "      <th>reviews</th>\n",
       "      <th>name</th>\n",
       "      <th>stars</th>\n",
       "      <th>date_of_review</th>\n",
       "      <th>country</th>\n",
       "      <th>locations</th>\n",
       "      <th>date_of_travel</th>\n",
       "      <th>travel_type</th>\n",
       "      <th>seat_type</th>\n",
       "      <th>route</th>\n",
       "    </tr>\n",
       "  </thead>\n",
       "  <tbody>\n",
       "    <tr>\n",
       "      <th>0</th>\n",
       "      <td>✅ Trip Verified |  Words fail to describe this...</td>\n",
       "      <td>N Mayle</td>\n",
       "      <td>5.0</td>\n",
       "      <td>19th May 2023</td>\n",
       "      <td>United States</td>\n",
       "      <td>United States</td>\n",
       "      <td>September 2022</td>\n",
       "      <td>Solo Leisure</td>\n",
       "      <td>Business Class</td>\n",
       "      <td>London to San Francisco</td>\n",
       "    </tr>\n",
       "    <tr>\n",
       "      <th>1</th>\n",
       "      <td>✅ Trip Verified |  Absolutely terrible experie...</td>\n",
       "      <td>E Heale</td>\n",
       "      <td>2.0</td>\n",
       "      <td>17th May 2023</td>\n",
       "      <td>United States</td>\n",
       "      <td>United States</td>\n",
       "      <td>April 2023</td>\n",
       "      <td>Solo Leisure</td>\n",
       "      <td>Economy Class</td>\n",
       "      <td>London to Dallas</td>\n",
       "    </tr>\n",
       "    <tr>\n",
       "      <th>2</th>\n",
       "      <td>✅ Trip Verified | BA overbook every flight to ...</td>\n",
       "      <td>H Mike</td>\n",
       "      <td>1.0</td>\n",
       "      <td>17th May 2023</td>\n",
       "      <td>United Kingdom</td>\n",
       "      <td>United Kingdom</td>\n",
       "      <td>May 2023</td>\n",
       "      <td>Business</td>\n",
       "      <td>Economy Class</td>\n",
       "      <td>London to Madrid</td>\n",
       "    </tr>\n",
       "    <tr>\n",
       "      <th>3</th>\n",
       "      <td>✅ Trip Verified |  \\r\\nThe flights were all on...</td>\n",
       "      <td>Richard Cruise</td>\n",
       "      <td>1.0</td>\n",
       "      <td>17th May 2023</td>\n",
       "      <td>United Kingdom</td>\n",
       "      <td>United Kingdom</td>\n",
       "      <td>May 2023</td>\n",
       "      <td>Solo Leisure</td>\n",
       "      <td>Economy Class</td>\n",
       "      <td>London to Belfast</td>\n",
       "    </tr>\n",
       "    <tr>\n",
       "      <th>4</th>\n",
       "      <td>Not Verified | Only the second time flying BA ...</td>\n",
       "      <td>Kathi Blanning</td>\n",
       "      <td>1.0</td>\n",
       "      <td>14th May 2023</td>\n",
       "      <td>United States</td>\n",
       "      <td>United States</td>\n",
       "      <td>May 2023</td>\n",
       "      <td>Couple Leisure</td>\n",
       "      <td>Business Class</td>\n",
       "      <td>Los Angeles to London</td>\n",
       "    </tr>\n",
       "  </tbody>\n",
       "</table>\n",
       "</div>"
      ],
      "text/plain": [
       "                                             reviews            name  stars   \n",
       "0  ✅ Trip Verified |  Words fail to describe this...         N Mayle    5.0  \\\n",
       "1  ✅ Trip Verified |  Absolutely terrible experie...         E Heale    2.0   \n",
       "2  ✅ Trip Verified | BA overbook every flight to ...         H Mike     1.0   \n",
       "3  ✅ Trip Verified |  \\r\\nThe flights were all on...  Richard Cruise    1.0   \n",
       "4  Not Verified | Only the second time flying BA ...  Kathi Blanning    1.0   \n",
       "\n",
       "  date_of_review         country       locations  date_of_travel   \n",
       "0  19th May 2023   United States   United States  September 2022  \\\n",
       "1  17th May 2023   United States   United States      April 2023   \n",
       "2  17th May 2023  United Kingdom  United Kingdom        May 2023   \n",
       "3  17th May 2023  United Kingdom  United Kingdom        May 2023   \n",
       "4  14th May 2023   United States   United States        May 2023   \n",
       "\n",
       "      travel_type       seat_type                   route   \n",
       "0    Solo Leisure  Business Class  London to San Francisco  \n",
       "1    Solo Leisure   Economy Class         London to Dallas  \n",
       "2        Business   Economy Class         London to Madrid  \n",
       "3    Solo Leisure   Economy Class        London to Belfast  \n",
       "4  Couple Leisure  Business Class    Los Angeles to London  "
      ]
     },
     "execution_count": 3,
     "metadata": {},
     "output_type": "execute_result"
    }
   ],
   "source": [
    "df.head()"
   ]
  },
  {
   "cell_type": "code",
   "execution_count": 4,
   "metadata": {},
   "outputs": [],
   "source": [
    "df['verified'] = df.reviews.str.contains(\"Trip Verified\")"
   ]
  },
  {
   "cell_type": "code",
   "execution_count": 5,
   "metadata": {},
   "outputs": [
    {
     "data": {
      "text/plain": [
       "0        True\n",
       "1        True\n",
       "2        True\n",
       "3        True\n",
       "4       False\n",
       "        ...  \n",
       "3543    False\n",
       "3544    False\n",
       "3545    False\n",
       "3546    False\n",
       "3547    False\n",
       "Name: verified, Length: 3548, dtype: bool"
      ]
     },
     "execution_count": 5,
     "metadata": {},
     "output_type": "execute_result"
    }
   ],
   "source": [
    "df['verified']"
   ]
  },
  {
   "attachments": {},
   "cell_type": "markdown",
   "metadata": {},
   "source": [
    "# Cleaning Reviews:\n",
    "\n",
    "As part of the data preprocessing phase, we will extract the reviews column from the dataset and create a separate dataframe specifically for performing semantic analysis. The reviews in this dataframe will undergo cleaning processes such as removing stop words, handling special characters, and applying text normalization techniques to enhance the accuracy of the subsequent analysis. Cleaning the reviews ensures that we have high-quality data for meaningful semantic analysis."
   ]
  },
  {
   "cell_type": "code",
   "execution_count": 7,
   "metadata": {},
   "outputs": [
    {
     "name": "stderr",
     "output_type": "stream",
     "text": [
      "[nltk_data] Downloading package stopwords to\n",
      "[nltk_data]     /home/codespace/nltk_data...\n",
      "[nltk_data]   Package stopwords is already up-to-date!\n",
      "[nltk_data] Downloading package wordnet to\n",
      "[nltk_data]     /home/codespace/nltk_data...\n",
      "[nltk_data]   Package wordnet is already up-to-date!\n"
     ]
    }
   ],
   "source": [
    "#for lemmatization of words we will use nltk library\n",
    "from nltk.stem import WordNetLemmatizer\n",
    "import nltk\n",
    "nltk.download('stopwords')\n",
    "nltk.download('wordnet')\n",
    "from nltk.corpus import stopwords\n",
    "STOPWORDS = set(stopwords.words('english'))\n",
    "lemma = WordNetLemmatizer()\n",
    "\n",
    "reviews_data = df.reviews.str.strip(\"✅ Trip Verified |\")\n",
    "#create an empty list to collect cleaned data corpus\n",
    "corpus =[]\n",
    "\n",
    "#loop through each review, remove punctuations, small case it, join it and add it to corpus\n",
    "for review in reviews_data:\n",
    "    review = re.sub('[^a-zA-Z]',' ', review)\n",
    "    review = review.lower()\n",
    "    review = review.split()\n",
    "    review = [lemma.lemmatize(word) for word in review if word not in set(STOPWORDS)]\n",
    "    review = \" \".join(review)\n",
    "    corpus.append(review)"
   ]
  },
  {
   "cell_type": "code",
   "execution_count": 8,
   "metadata": {},
   "outputs": [],
   "source": [
    "# add the corpus to the original dataframe\n",
    "\n",
    "df['corpus'] = corpus"
   ]
  },
  {
   "cell_type": "code",
   "execution_count": 9,
   "metadata": {},
   "outputs": [
    {
     "data": {
      "text/html": [
       "<div>\n",
       "<style scoped>\n",
       "    .dataframe tbody tr th:only-of-type {\n",
       "        vertical-align: middle;\n",
       "    }\n",
       "\n",
       "    .dataframe tbody tr th {\n",
       "        vertical-align: top;\n",
       "    }\n",
       "\n",
       "    .dataframe thead th {\n",
       "        text-align: right;\n",
       "    }\n",
       "</style>\n",
       "<table border=\"1\" class=\"dataframe\">\n",
       "  <thead>\n",
       "    <tr style=\"text-align: right;\">\n",
       "      <th></th>\n",
       "      <th>reviews</th>\n",
       "      <th>name</th>\n",
       "      <th>stars</th>\n",
       "      <th>date_of_review</th>\n",
       "      <th>country</th>\n",
       "      <th>locations</th>\n",
       "      <th>date_of_travel</th>\n",
       "      <th>travel_type</th>\n",
       "      <th>seat_type</th>\n",
       "      <th>route</th>\n",
       "      <th>verified</th>\n",
       "      <th>corpus</th>\n",
       "    </tr>\n",
       "  </thead>\n",
       "  <tbody>\n",
       "    <tr>\n",
       "      <th>0</th>\n",
       "      <td>✅ Trip Verified |  Words fail to describe this...</td>\n",
       "      <td>N Mayle</td>\n",
       "      <td>5.0</td>\n",
       "      <td>19th May 2023</td>\n",
       "      <td>United States</td>\n",
       "      <td>United States</td>\n",
       "      <td>September 2022</td>\n",
       "      <td>Solo Leisure</td>\n",
       "      <td>Business Class</td>\n",
       "      <td>London to San Francisco</td>\n",
       "      <td>True</td>\n",
       "      <td>word fail describe last awful flight baby acro...</td>\n",
       "    </tr>\n",
       "    <tr>\n",
       "      <th>1</th>\n",
       "      <td>✅ Trip Verified |  Absolutely terrible experie...</td>\n",
       "      <td>E Heale</td>\n",
       "      <td>2.0</td>\n",
       "      <td>17th May 2023</td>\n",
       "      <td>United States</td>\n",
       "      <td>United States</td>\n",
       "      <td>April 2023</td>\n",
       "      <td>Solo Leisure</td>\n",
       "      <td>Economy Class</td>\n",
       "      <td>London to Dallas</td>\n",
       "      <td>True</td>\n",
       "      <td>absolutely terrible experience app would let c...</td>\n",
       "    </tr>\n",
       "    <tr>\n",
       "      <th>2</th>\n",
       "      <td>✅ Trip Verified | BA overbook every flight to ...</td>\n",
       "      <td>H Mike</td>\n",
       "      <td>1.0</td>\n",
       "      <td>17th May 2023</td>\n",
       "      <td>United Kingdom</td>\n",
       "      <td>United Kingdom</td>\n",
       "      <td>May 2023</td>\n",
       "      <td>Business</td>\n",
       "      <td>Economy Class</td>\n",
       "      <td>London to Madrid</td>\n",
       "      <td>True</td>\n",
       "      <td>ba overbook every flight maximise income regar...</td>\n",
       "    </tr>\n",
       "    <tr>\n",
       "      <th>3</th>\n",
       "      <td>✅ Trip Verified |  \\r\\nThe flights were all on...</td>\n",
       "      <td>Richard Cruise</td>\n",
       "      <td>1.0</td>\n",
       "      <td>17th May 2023</td>\n",
       "      <td>United Kingdom</td>\n",
       "      <td>United Kingdom</td>\n",
       "      <td>May 2023</td>\n",
       "      <td>Solo Leisure</td>\n",
       "      <td>Economy Class</td>\n",
       "      <td>London to Belfast</td>\n",
       "      <td>True</td>\n",
       "      <td>flight time except belfast london never staff ...</td>\n",
       "    </tr>\n",
       "    <tr>\n",
       "      <th>4</th>\n",
       "      <td>Not Verified | Only the second time flying BA ...</td>\n",
       "      <td>Kathi Blanning</td>\n",
       "      <td>1.0</td>\n",
       "      <td>14th May 2023</td>\n",
       "      <td>United States</td>\n",
       "      <td>United States</td>\n",
       "      <td>May 2023</td>\n",
       "      <td>Couple Leisure</td>\n",
       "      <td>Business Class</td>\n",
       "      <td>Los Angeles to London</td>\n",
       "      <td>False</td>\n",
       "      <td>verified second time flying ba first time posi...</td>\n",
       "    </tr>\n",
       "  </tbody>\n",
       "</table>\n",
       "</div>"
      ],
      "text/plain": [
       "                                             reviews            name  stars   \n",
       "0  ✅ Trip Verified |  Words fail to describe this...         N Mayle    5.0  \\\n",
       "1  ✅ Trip Verified |  Absolutely terrible experie...         E Heale    2.0   \n",
       "2  ✅ Trip Verified | BA overbook every flight to ...         H Mike     1.0   \n",
       "3  ✅ Trip Verified |  \\r\\nThe flights were all on...  Richard Cruise    1.0   \n",
       "4  Not Verified | Only the second time flying BA ...  Kathi Blanning    1.0   \n",
       "\n",
       "  date_of_review         country       locations  date_of_travel   \n",
       "0  19th May 2023   United States   United States  September 2022  \\\n",
       "1  17th May 2023   United States   United States      April 2023   \n",
       "2  17th May 2023  United Kingdom  United Kingdom        May 2023   \n",
       "3  17th May 2023  United Kingdom  United Kingdom        May 2023   \n",
       "4  14th May 2023   United States   United States        May 2023   \n",
       "\n",
       "      travel_type       seat_type                   route   verified   \n",
       "0    Solo Leisure  Business Class  London to San Francisco      True  \\\n",
       "1    Solo Leisure   Economy Class         London to Dallas      True   \n",
       "2        Business   Economy Class         London to Madrid      True   \n",
       "3    Solo Leisure   Economy Class        London to Belfast      True   \n",
       "4  Couple Leisure  Business Class    Los Angeles to London     False   \n",
       "\n",
       "                                              corpus  \n",
       "0  word fail describe last awful flight baby acro...  \n",
       "1  absolutely terrible experience app would let c...  \n",
       "2  ba overbook every flight maximise income regar...  \n",
       "3  flight time except belfast london never staff ...  \n",
       "4  verified second time flying ba first time posi...  "
      ]
     },
     "execution_count": 9,
     "metadata": {},
     "output_type": "execute_result"
    }
   ],
   "source": [
    "df.head()"
   ]
  },
  {
   "attachments": {},
   "cell_type": "markdown",
   "metadata": {},
   "source": [
    "We will clean and format the date column in the dataset to ensure consistency and ease of analysis."
   ]
  },
  {
   "cell_type": "code",
   "execution_count": 10,
   "metadata": {},
   "outputs": [
    {
     "data": {
      "text/plain": [
       "reviews            object\n",
       "name               object\n",
       "stars             float64\n",
       "date_of_review     object\n",
       "country            object\n",
       "locations          object\n",
       "date_of_travel     object\n",
       "travel_type        object\n",
       "seat_type          object\n",
       "route              object\n",
       "verified             bool\n",
       "corpus             object\n",
       "dtype: object"
      ]
     },
     "execution_count": 10,
     "metadata": {},
     "output_type": "execute_result"
    }
   ],
   "source": [
    "df.dtypes"
   ]
  },
  {
   "cell_type": "code",
   "execution_count": 16,
   "metadata": {},
   "outputs": [],
   "source": [
    "# convert the date to datetime format\n",
    "\n",
    "df.date_of_review = pd.to_datetime(df.date_of_review, format=\"mixed\")\n",
    "df.date_of_travel = pd.to_datetime(df.date_of_travel, format=\"mixed\")"
   ]
  },
  {
   "cell_type": "code",
   "execution_count": 18,
   "metadata": {},
   "outputs": [
    {
     "data": {
      "text/plain": [
       "0   2023-05-19\n",
       "1   2023-05-17\n",
       "2   2023-05-17\n",
       "3   2023-05-17\n",
       "4   2023-05-14\n",
       "Name: date_of_review, dtype: datetime64[ns]"
      ]
     },
     "execution_count": 18,
     "metadata": {},
     "output_type": "execute_result"
    }
   ],
   "source": [
    "df.date_of_review.head(5)\n"
   ]
  },
  {
   "cell_type": "code",
   "execution_count": 19,
   "metadata": {},
   "outputs": [
    {
     "data": {
      "text/plain": [
       "0   2022-09-01\n",
       "1   2023-04-01\n",
       "2   2023-05-01\n",
       "3   2023-05-01\n",
       "4   2023-05-01\n",
       "Name: date_of_travel, dtype: datetime64[ns]"
      ]
     },
     "execution_count": 19,
     "metadata": {},
     "output_type": "execute_result"
    }
   ],
   "source": [
    "df.date_of_travel.head(5)"
   ]
  },
  {
   "attachments": {},
   "cell_type": "markdown",
   "metadata": {},
   "source": [
    "Cleaning ratings with stars"
   ]
  },
  {
   "cell_type": "code",
   "execution_count": 21,
   "metadata": {},
   "outputs": [],
   "source": [
    "#check for unique values\n",
    "df.stars.unique()\n",
    "# remove the \\t and \\n from the ratings\n",
    "df.stars = df.stars.astype(str)\n",
    "df.stars = df.stars.str.strip(\"\\n\\t\\t\\t\\t\\t\\t\\t\\t\\t\\t\\t\\t\\t\")"
   ]
  },
  {
   "cell_type": "code",
   "execution_count": 22,
   "metadata": {},
   "outputs": [
    {
     "data": {
      "text/plain": [
       "stars\n",
       "1.0     739\n",
       "5.0     524\n",
       "3.0     382\n",
       "2.0     377\n",
       "8.0     317\n",
       "10.0    278\n",
       "9.0     272\n",
       "7.0     266\n",
       "4.0     225\n",
       "6.0     167\n",
       "nan       1\n",
       "Name: count, dtype: int64"
      ]
     },
     "execution_count": 22,
     "metadata": {},
     "output_type": "execute_result"
    }
   ],
   "source": [
    "df.stars.value_counts()"
   ]
  },
  {
   "attachments": {},
   "cell_type": "markdown",
   "metadata": {},
   "source": [
    "There are 1 rows having values \"nan\" in the ratings. We will drop all these 5 rows."
   ]
  },
  {
   "cell_type": "code",
   "execution_count": 23,
   "metadata": {},
   "outputs": [],
   "source": [
    "# drop the rows where the value of ratings is None\n",
    "df.drop(df[df.stars == \"nan\"].index, axis=0, inplace=True)"
   ]
  },
  {
   "cell_type": "code",
   "execution_count": 24,
   "metadata": {},
   "outputs": [
    {
     "data": {
      "text/plain": [
       "array(['5.0', '2.0', '1.0', '3.0', '10.0', '4.0', '9.0', '7.0', '8.0',\n",
       "       '6.0'], dtype=object)"
      ]
     },
     "execution_count": 24,
     "metadata": {},
     "output_type": "execute_result"
    }
   ],
   "source": [
    "#check the unique values again\n",
    "df.stars.unique()"
   ]
  },
  {
   "attachments": {},
   "cell_type": "markdown",
   "metadata": {},
   "source": [
    "cleaning for null Values\n"
   ]
  },
  {
   "cell_type": "code",
   "execution_count": 25,
   "metadata": {},
   "outputs": [
    {
     "data": {
      "text/plain": [
       "reviews  name   stars  date_of_review  country  locations  date_of_travel  travel_type  seat_type  route   verified  corpus\n",
       "False    False  False  False           False    False      False           False        False      False   False     False     2762\n",
       "                                                           True            True         False      True    False     False      765\n",
       "                                                                           False        False      False   False     False        8\n",
       "                                                           False           False        False      True    False     False        5\n",
       "                                                                           True         False      False   False     False        2\n",
       "                                                           True            False        False      True    False     False        2\n",
       "                                                           False           False        True       False   False     False        1\n",
       "                                                           True            True         True       True    False     False        1\n",
       "                                       True     True       True            True         False      True    False     False        1\n",
       "Name: count, dtype: int64"
      ]
     },
     "execution_count": 25,
     "metadata": {},
     "output_type": "execute_result"
    }
   ],
   "source": [
    "df.isnull().value_counts()"
   ]
  },
  {
   "cell_type": "code",
   "execution_count": 26,
   "metadata": {},
   "outputs": [
    {
     "data": {
      "text/plain": [
       "country\n",
       "False    3546\n",
       "True        1\n",
       "Name: count, dtype: int64"
      ]
     },
     "execution_count": 26,
     "metadata": {},
     "output_type": "execute_result"
    }
   ],
   "source": [
    "df.country.isnull().value_counts()"
   ]
  },
  {
   "cell_type": "code",
   "execution_count": 27,
   "metadata": {},
   "outputs": [],
   "source": [
    "#drop the rows using index where the country value is null\n",
    "df.drop(df[df.country.isnull() == True].index, axis=0, inplace=True)"
   ]
  },
  {
   "cell_type": "code",
   "execution_count": 28,
   "metadata": {},
   "outputs": [
    {
     "data": {
      "text/plain": [
       "(3546, 12)"
      ]
     },
     "execution_count": 28,
     "metadata": {},
     "output_type": "execute_result"
    }
   ],
   "source": [
    "df.shape"
   ]
  },
  {
   "cell_type": "code",
   "execution_count": 29,
   "metadata": {},
   "outputs": [
    {
     "data": {
      "text/html": [
       "<div>\n",
       "<style scoped>\n",
       "    .dataframe tbody tr th:only-of-type {\n",
       "        vertical-align: middle;\n",
       "    }\n",
       "\n",
       "    .dataframe tbody tr th {\n",
       "        vertical-align: top;\n",
       "    }\n",
       "\n",
       "    .dataframe thead th {\n",
       "        text-align: right;\n",
       "    }\n",
       "</style>\n",
       "<table border=\"1\" class=\"dataframe\">\n",
       "  <thead>\n",
       "    <tr style=\"text-align: right;\">\n",
       "      <th></th>\n",
       "      <th>reviews</th>\n",
       "      <th>name</th>\n",
       "      <th>stars</th>\n",
       "      <th>date_of_review</th>\n",
       "      <th>country</th>\n",
       "      <th>locations</th>\n",
       "      <th>date_of_travel</th>\n",
       "      <th>travel_type</th>\n",
       "      <th>seat_type</th>\n",
       "      <th>route</th>\n",
       "      <th>verified</th>\n",
       "      <th>corpus</th>\n",
       "    </tr>\n",
       "  </thead>\n",
       "  <tbody>\n",
       "    <tr>\n",
       "      <th>0</th>\n",
       "      <td>✅ Trip Verified |  Words fail to describe this...</td>\n",
       "      <td>N Mayle</td>\n",
       "      <td>5.0</td>\n",
       "      <td>2023-05-19</td>\n",
       "      <td>United States</td>\n",
       "      <td>United States</td>\n",
       "      <td>2022-09-01</td>\n",
       "      <td>Solo Leisure</td>\n",
       "      <td>Business Class</td>\n",
       "      <td>London to San Francisco</td>\n",
       "      <td>True</td>\n",
       "      <td>word fail describe last awful flight baby acro...</td>\n",
       "    </tr>\n",
       "    <tr>\n",
       "      <th>1</th>\n",
       "      <td>✅ Trip Verified |  Absolutely terrible experie...</td>\n",
       "      <td>E Heale</td>\n",
       "      <td>2.0</td>\n",
       "      <td>2023-05-17</td>\n",
       "      <td>United States</td>\n",
       "      <td>United States</td>\n",
       "      <td>2023-04-01</td>\n",
       "      <td>Solo Leisure</td>\n",
       "      <td>Economy Class</td>\n",
       "      <td>London to Dallas</td>\n",
       "      <td>True</td>\n",
       "      <td>absolutely terrible experience app would let c...</td>\n",
       "    </tr>\n",
       "    <tr>\n",
       "      <th>2</th>\n",
       "      <td>✅ Trip Verified | BA overbook every flight to ...</td>\n",
       "      <td>H Mike</td>\n",
       "      <td>1.0</td>\n",
       "      <td>2023-05-17</td>\n",
       "      <td>United Kingdom</td>\n",
       "      <td>United Kingdom</td>\n",
       "      <td>2023-05-01</td>\n",
       "      <td>Business</td>\n",
       "      <td>Economy Class</td>\n",
       "      <td>London to Madrid</td>\n",
       "      <td>True</td>\n",
       "      <td>ba overbook every flight maximise income regar...</td>\n",
       "    </tr>\n",
       "    <tr>\n",
       "      <th>3</th>\n",
       "      <td>✅ Trip Verified |  \\r\\nThe flights were all on...</td>\n",
       "      <td>Richard Cruise</td>\n",
       "      <td>1.0</td>\n",
       "      <td>2023-05-17</td>\n",
       "      <td>United Kingdom</td>\n",
       "      <td>United Kingdom</td>\n",
       "      <td>2023-05-01</td>\n",
       "      <td>Solo Leisure</td>\n",
       "      <td>Economy Class</td>\n",
       "      <td>London to Belfast</td>\n",
       "      <td>True</td>\n",
       "      <td>flight time except belfast london never staff ...</td>\n",
       "    </tr>\n",
       "    <tr>\n",
       "      <th>4</th>\n",
       "      <td>Not Verified | Only the second time flying BA ...</td>\n",
       "      <td>Kathi Blanning</td>\n",
       "      <td>1.0</td>\n",
       "      <td>2023-05-14</td>\n",
       "      <td>United States</td>\n",
       "      <td>United States</td>\n",
       "      <td>2023-05-01</td>\n",
       "      <td>Couple Leisure</td>\n",
       "      <td>Business Class</td>\n",
       "      <td>Los Angeles to London</td>\n",
       "      <td>False</td>\n",
       "      <td>verified second time flying ba first time posi...</td>\n",
       "    </tr>\n",
       "    <tr>\n",
       "      <th>...</th>\n",
       "      <td>...</td>\n",
       "      <td>...</td>\n",
       "      <td>...</td>\n",
       "      <td>...</td>\n",
       "      <td>...</td>\n",
       "      <td>...</td>\n",
       "      <td>...</td>\n",
       "      <td>...</td>\n",
       "      <td>...</td>\n",
       "      <td>...</td>\n",
       "      <td>...</td>\n",
       "      <td>...</td>\n",
       "    </tr>\n",
       "    <tr>\n",
       "      <th>3541</th>\n",
       "      <td>Flew return in CW from LHR to BKK in August 20...</td>\n",
       "      <td>D Nolan</td>\n",
       "      <td>2.0</td>\n",
       "      <td>2012-08-29</td>\n",
       "      <td>Ireland</td>\n",
       "      <td>Ireland</td>\n",
       "      <td>NaT</td>\n",
       "      <td>NaN</td>\n",
       "      <td>Business Class</td>\n",
       "      <td>NaN</td>\n",
       "      <td>False</td>\n",
       "      <td>flew return cw lhr bkk august positive flight ...</td>\n",
       "    </tr>\n",
       "    <tr>\n",
       "      <th>3542</th>\n",
       "      <td>LHR to HAM. Purser addresses all club passenge...</td>\n",
       "      <td>Nick Berry</td>\n",
       "      <td>1.0</td>\n",
       "      <td>2012-08-28</td>\n",
       "      <td>United Kingdom</td>\n",
       "      <td>United Kingdom</td>\n",
       "      <td>NaT</td>\n",
       "      <td>NaN</td>\n",
       "      <td>Business Class</td>\n",
       "      <td>NaN</td>\n",
       "      <td>False</td>\n",
       "      <td>lhr ham purser address club passenger name boa...</td>\n",
       "    </tr>\n",
       "    <tr>\n",
       "      <th>3543</th>\n",
       "      <td>My son who had worked for British Airways urge...</td>\n",
       "      <td>Avril Barclay</td>\n",
       "      <td>1.0</td>\n",
       "      <td>2011-10-12</td>\n",
       "      <td>United Kingdom</td>\n",
       "      <td>United Kingdom</td>\n",
       "      <td>NaT</td>\n",
       "      <td>NaN</td>\n",
       "      <td>Economy Class</td>\n",
       "      <td>NaN</td>\n",
       "      <td>False</td>\n",
       "      <td>son worked british airway urged fly british ai...</td>\n",
       "    </tr>\n",
       "    <tr>\n",
       "      <th>3544</th>\n",
       "      <td>London City-New York JFK via Shannon on A318 b...</td>\n",
       "      <td>C Volz</td>\n",
       "      <td>8.0</td>\n",
       "      <td>2011-10-11</td>\n",
       "      <td>United States</td>\n",
       "      <td>United States</td>\n",
       "      <td>NaT</td>\n",
       "      <td>NaN</td>\n",
       "      <td>Premium Economy</td>\n",
       "      <td>NaN</td>\n",
       "      <td>False</td>\n",
       "      <td>london city new york jfk via shannon really ni...</td>\n",
       "    </tr>\n",
       "    <tr>\n",
       "      <th>3545</th>\n",
       "      <td>SIN-LHR BA12 B747-436 First Class. Old aircraf...</td>\n",
       "      <td>Russ King</td>\n",
       "      <td>2.0</td>\n",
       "      <td>2011-10-09</td>\n",
       "      <td>United Kingdom</td>\n",
       "      <td>United Kingdom</td>\n",
       "      <td>NaT</td>\n",
       "      <td>NaN</td>\n",
       "      <td>First Class</td>\n",
       "      <td>NaN</td>\n",
       "      <td>False</td>\n",
       "      <td>sin lhr ba b first class old aircraft seat pri...</td>\n",
       "    </tr>\n",
       "  </tbody>\n",
       "</table>\n",
       "<p>3546 rows × 12 columns</p>\n",
       "</div>"
      ],
      "text/plain": [
       "                                                reviews            name stars   \n",
       "0     ✅ Trip Verified |  Words fail to describe this...         N Mayle   5.0  \\\n",
       "1     ✅ Trip Verified |  Absolutely terrible experie...         E Heale   2.0   \n",
       "2     ✅ Trip Verified | BA overbook every flight to ...         H Mike    1.0   \n",
       "3     ✅ Trip Verified |  \\r\\nThe flights were all on...  Richard Cruise   1.0   \n",
       "4     Not Verified | Only the second time flying BA ...  Kathi Blanning   1.0   \n",
       "...                                                 ...             ...   ...   \n",
       "3541  Flew return in CW from LHR to BKK in August 20...         D Nolan   2.0   \n",
       "3542  LHR to HAM. Purser addresses all club passenge...      Nick Berry   1.0   \n",
       "3543  My son who had worked for British Airways urge...   Avril Barclay   1.0   \n",
       "3544  London City-New York JFK via Shannon on A318 b...          C Volz   8.0   \n",
       "3545  SIN-LHR BA12 B747-436 First Class. Old aircraf...       Russ King   2.0   \n",
       "\n",
       "     date_of_review         country       locations date_of_travel   \n",
       "0        2023-05-19   United States   United States     2022-09-01  \\\n",
       "1        2023-05-17   United States   United States     2023-04-01   \n",
       "2        2023-05-17  United Kingdom  United Kingdom     2023-05-01   \n",
       "3        2023-05-17  United Kingdom  United Kingdom     2023-05-01   \n",
       "4        2023-05-14   United States   United States     2023-05-01   \n",
       "...             ...             ...             ...            ...   \n",
       "3541     2012-08-29         Ireland         Ireland            NaT   \n",
       "3542     2012-08-28  United Kingdom  United Kingdom            NaT   \n",
       "3543     2011-10-12  United Kingdom  United Kingdom            NaT   \n",
       "3544     2011-10-11   United States   United States            NaT   \n",
       "3545     2011-10-09  United Kingdom  United Kingdom            NaT   \n",
       "\n",
       "         travel_type        seat_type                   route   verified   \n",
       "0       Solo Leisure   Business Class  London to San Francisco      True  \\\n",
       "1       Solo Leisure    Economy Class         London to Dallas      True   \n",
       "2           Business    Economy Class         London to Madrid      True   \n",
       "3       Solo Leisure    Economy Class        London to Belfast      True   \n",
       "4     Couple Leisure   Business Class    Los Angeles to London     False   \n",
       "...              ...              ...                      ...       ...   \n",
       "3541             NaN   Business Class                      NaN     False   \n",
       "3542             NaN   Business Class                      NaN     False   \n",
       "3543             NaN    Economy Class                      NaN     False   \n",
       "3544             NaN  Premium Economy                      NaN     False   \n",
       "3545             NaN      First Class                      NaN     False   \n",
       "\n",
       "                                                 corpus  \n",
       "0     word fail describe last awful flight baby acro...  \n",
       "1     absolutely terrible experience app would let c...  \n",
       "2     ba overbook every flight maximise income regar...  \n",
       "3     flight time except belfast london never staff ...  \n",
       "4     verified second time flying ba first time posi...  \n",
       "...                                                 ...  \n",
       "3541  flew return cw lhr bkk august positive flight ...  \n",
       "3542  lhr ham purser address club passenger name boa...  \n",
       "3543  son worked british airway urged fly british ai...  \n",
       "3544  london city new york jfk via shannon really ni...  \n",
       "3545  sin lhr ba b first class old aircraft seat pri...  \n",
       "\n",
       "[3546 rows x 12 columns]"
      ]
     },
     "execution_count": 29,
     "metadata": {},
     "output_type": "execute_result"
    }
   ],
   "source": [
    "#resetting the index\n",
    "df.reset_index(drop=True)"
   ]
  },
  {
   "cell_type": "code",
   "execution_count": 30,
   "metadata": {},
   "outputs": [],
   "source": [
    "# export the cleaned data\n",
    "\n",
    "df.to_csv(cwd + \"/cleaned_BA_reviews.csv\")"
   ]
  }
 ],
 "metadata": {
  "kernelspec": {
   "display_name": "Python 3",
   "language": "python",
   "name": "python3"
  },
  "language_info": {
   "codemirror_mode": {
    "name": "ipython",
    "version": 3
   },
   "file_extension": ".py",
   "mimetype": "text/x-python",
   "name": "python",
   "nbconvert_exporter": "python",
   "pygments_lexer": "ipython3",
   "version": "3.10.4"
  },
  "orig_nbformat": 4
 },
 "nbformat": 4,
 "nbformat_minor": 2
}
