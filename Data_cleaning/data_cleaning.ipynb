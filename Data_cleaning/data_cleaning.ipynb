{
 "cells": [
  {
   "attachments": {},
   "cell_type": "markdown",
   "metadata": {},
   "source": [
    "# Data Cleaning: Preparing Extracted Data for Analysis\n",
    "After extracting the data from the website, it is essential to perform data cleaning before analyzing it. The reviews section requires cleaning to remove punctuation marks, correct spellings, and eliminate other unwanted characters. Data cleaning ensures that the data is in a standardized and consistent format, enabling accurate analysis."
   ]
  },
  {
   "cell_type": "code",
   "execution_count": 23,
   "metadata": {},
   "outputs": [],
   "source": [
    "#imports\n",
    "\n",
    "import pandas as pd\n",
    "import matplotlib.pyplot as plt\n",
    "import seaborn as sns\n",
    "import os\n",
    "\n",
    "#regex\n",
    "import re"
   ]
  },
  {
   "cell_type": "code",
   "execution_count": 24,
   "metadata": {},
   "outputs": [],
   "source": [
    "#create a dataframe from csv file\n",
    "\n",
    "cwd = os.getcwd()\n",
    "\n",
    "df = pd.read_csv(cwd+\"/../Data_collection/BA_reviews.csv\", index_col=0)"
   ]
  },
  {
   "cell_type": "code",
   "execution_count": 25,
   "metadata": {},
   "outputs": [
    {
     "data": {
      "text/html": [
       "<div>\n",
       "<style scoped>\n",
       "    .dataframe tbody tr th:only-of-type {\n",
       "        vertical-align: middle;\n",
       "    }\n",
       "\n",
       "    .dataframe tbody tr th {\n",
       "        vertical-align: top;\n",
       "    }\n",
       "\n",
       "    .dataframe thead th {\n",
       "        text-align: right;\n",
       "    }\n",
       "</style>\n",
       "<table border=\"1\" class=\"dataframe\">\n",
       "  <thead>\n",
       "    <tr style=\"text-align: right;\">\n",
       "      <th></th>\n",
       "      <th>reviews</th>\n",
       "      <th>name</th>\n",
       "      <th>stars</th>\n",
       "      <th>date_of_review</th>\n",
       "      <th>country</th>\n",
       "      <th>locations</th>\n",
       "      <th>date_of_travel</th>\n",
       "      <th>travel_type</th>\n",
       "      <th>seat_type</th>\n",
       "      <th>route</th>\n",
       "    </tr>\n",
       "  </thead>\n",
       "  <tbody>\n",
       "    <tr>\n",
       "      <th>0</th>\n",
       "      <td>✅ Trip Verified |. The BA first lounge at Term...</td>\n",
       "      <td>E Michaels</td>\n",
       "      <td>5.0</td>\n",
       "      <td>22nd May 2023</td>\n",
       "      <td>United Kingdom</td>\n",
       "      <td>United Kingdom</td>\n",
       "      <td>May 2023</td>\n",
       "      <td>Business</td>\n",
       "      <td>Business Class</td>\n",
       "      <td>London Heathrow to Malaga</td>\n",
       "    </tr>\n",
       "    <tr>\n",
       "      <th>1</th>\n",
       "      <td>Not Verified | Paid a quick visit to Nice yest...</td>\n",
       "      <td>Steve Bennett</td>\n",
       "      <td>2.0</td>\n",
       "      <td>22nd May 2023</td>\n",
       "      <td>United Kingdom</td>\n",
       "      <td>United Kingdom</td>\n",
       "      <td>May 2023</td>\n",
       "      <td>Couple Leisure</td>\n",
       "      <td>Business Class</td>\n",
       "      <td>London to Nice</td>\n",
       "    </tr>\n",
       "    <tr>\n",
       "      <th>2</th>\n",
       "      <td>✅ Trip Verified |  Words fail to describe this...</td>\n",
       "      <td>N Mayle</td>\n",
       "      <td>4.0</td>\n",
       "      <td>19th May 2023</td>\n",
       "      <td>United States</td>\n",
       "      <td>United States</td>\n",
       "      <td>September 2022</td>\n",
       "      <td>Solo Leisure</td>\n",
       "      <td>Business Class</td>\n",
       "      <td>London to San Francisco</td>\n",
       "    </tr>\n",
       "    <tr>\n",
       "      <th>3</th>\n",
       "      <td>✅ Trip Verified |  Absolutely terrible experie...</td>\n",
       "      <td>E Heale</td>\n",
       "      <td>2.0</td>\n",
       "      <td>17th May 2023</td>\n",
       "      <td>United States</td>\n",
       "      <td>United States</td>\n",
       "      <td>April 2023</td>\n",
       "      <td>Solo Leisure</td>\n",
       "      <td>Economy Class</td>\n",
       "      <td>London to Dallas</td>\n",
       "    </tr>\n",
       "    <tr>\n",
       "      <th>4</th>\n",
       "      <td>✅ Trip Verified | BA overbook every flight to ...</td>\n",
       "      <td>H Mike</td>\n",
       "      <td>1.0</td>\n",
       "      <td>17th May 2023</td>\n",
       "      <td>United Kingdom</td>\n",
       "      <td>United Kingdom</td>\n",
       "      <td>May 2023</td>\n",
       "      <td>Business</td>\n",
       "      <td>Economy Class</td>\n",
       "      <td>London to Madrid</td>\n",
       "    </tr>\n",
       "  </tbody>\n",
       "</table>\n",
       "</div>"
      ],
      "text/plain": [
       "                                             reviews           name  stars   \n",
       "0  ✅ Trip Verified |. The BA first lounge at Term...     E Michaels    5.0  \\\n",
       "1  Not Verified | Paid a quick visit to Nice yest...  Steve Bennett    2.0   \n",
       "2  ✅ Trip Verified |  Words fail to describe this...        N Mayle    4.0   \n",
       "3  ✅ Trip Verified |  Absolutely terrible experie...        E Heale    2.0   \n",
       "4  ✅ Trip Verified | BA overbook every flight to ...        H Mike     1.0   \n",
       "\n",
       "  date_of_review         country       locations  date_of_travel   \n",
       "0  22nd May 2023  United Kingdom  United Kingdom        May 2023  \\\n",
       "1  22nd May 2023  United Kingdom  United Kingdom        May 2023   \n",
       "2  19th May 2023   United States   United States  September 2022   \n",
       "3  17th May 2023   United States   United States      April 2023   \n",
       "4  17th May 2023  United Kingdom  United Kingdom        May 2023   \n",
       "\n",
       "      travel_type       seat_type                      route   \n",
       "0        Business  Business Class  London Heathrow to Malaga   \n",
       "1  Couple Leisure  Business Class              London to Nice  \n",
       "2    Solo Leisure  Business Class     London to San Francisco  \n",
       "3    Solo Leisure   Economy Class            London to Dallas  \n",
       "4        Business   Economy Class            London to Madrid  "
      ]
     },
     "execution_count": 25,
     "metadata": {},
     "output_type": "execute_result"
    }
   ],
   "source": [
    "df.head()"
   ]
  },
  {
   "cell_type": "code",
   "execution_count": 26,
   "metadata": {},
   "outputs": [],
   "source": [
    "df['verified'] = df.reviews.str.contains(\"Trip Verified\")"
   ]
  },
  {
   "cell_type": "code",
   "execution_count": 27,
   "metadata": {},
   "outputs": [
    {
     "data": {
      "text/plain": [
       "0        True\n",
       "1       False\n",
       "2        True\n",
       "3        True\n",
       "4        True\n",
       "        ...  \n",
       "3545    False\n",
       "3546    False\n",
       "3547    False\n",
       "3548    False\n",
       "3549    False\n",
       "Name: verified, Length: 3550, dtype: bool"
      ]
     },
     "execution_count": 27,
     "metadata": {},
     "output_type": "execute_result"
    }
   ],
   "source": [
    "df['verified']"
   ]
  },
  {
   "attachments": {},
   "cell_type": "markdown",
   "metadata": {},
   "source": [
    "# Cleaning Reviews:\n",
    "\n",
    "As part of the data preprocessing phase, we will extract the reviews column from the dataset and create a separate dataframe specifically for performing semantic analysis. The reviews in this dataframe will undergo cleaning processes such as removing stop words, handling special characters, and applying text normalization techniques to enhance the accuracy of the subsequent analysis. Cleaning the reviews ensures that we have high-quality data for meaningful semantic analysis."
   ]
  },
  {
   "cell_type": "code",
   "execution_count": 28,
   "metadata": {},
   "outputs": [
    {
     "name": "stderr",
     "output_type": "stream",
     "text": [
      "[nltk_data] Downloading package stopwords to\n",
      "[nltk_data]     /home/codespace/nltk_data...\n",
      "[nltk_data]   Package stopwords is already up-to-date!\n",
      "[nltk_data] Downloading package wordnet to\n",
      "[nltk_data]     /home/codespace/nltk_data...\n",
      "[nltk_data]   Package wordnet is already up-to-date!\n"
     ]
    }
   ],
   "source": [
    "#for lemmatization of words we will use nltk library\n",
    "from nltk.stem import WordNetLemmatizer\n",
    "import nltk\n",
    "nltk.download('stopwords')\n",
    "nltk.download('wordnet')\n",
    "from nltk.corpus import stopwords\n",
    "STOPWORDS = set(stopwords.words('english'))\n",
    "lemma = WordNetLemmatizer()\n",
    "\n",
    "reviews_data = df.reviews.str.strip(\"✅ Trip Verified |\")\n",
    "#create an empty list to collect cleaned data corpus\n",
    "corpus =[]\n",
    "\n",
    "#loop through each review, remove punctuations, small case it, join it and add it to corpus\n",
    "for review in reviews_data:\n",
    "    review = re.sub('[^a-zA-Z]',' ', review)\n",
    "    review = review.lower()\n",
    "    review = review.split()\n",
    "    review = [lemma.lemmatize(word) for word in review if word not in set(STOPWORDS)]\n",
    "    review = \" \".join(review)\n",
    "    corpus.append(review)"
   ]
  },
  {
   "cell_type": "code",
   "execution_count": 29,
   "metadata": {},
   "outputs": [],
   "source": [
    "# add the corpus to the original dataframe\n",
    "\n",
    "df['corpus'] = corpus"
   ]
  },
  {
   "cell_type": "code",
   "execution_count": 30,
   "metadata": {},
   "outputs": [
    {
     "data": {
      "text/html": [
       "<div>\n",
       "<style scoped>\n",
       "    .dataframe tbody tr th:only-of-type {\n",
       "        vertical-align: middle;\n",
       "    }\n",
       "\n",
       "    .dataframe tbody tr th {\n",
       "        vertical-align: top;\n",
       "    }\n",
       "\n",
       "    .dataframe thead th {\n",
       "        text-align: right;\n",
       "    }\n",
       "</style>\n",
       "<table border=\"1\" class=\"dataframe\">\n",
       "  <thead>\n",
       "    <tr style=\"text-align: right;\">\n",
       "      <th></th>\n",
       "      <th>reviews</th>\n",
       "      <th>name</th>\n",
       "      <th>stars</th>\n",
       "      <th>date_of_review</th>\n",
       "      <th>country</th>\n",
       "      <th>locations</th>\n",
       "      <th>date_of_travel</th>\n",
       "      <th>travel_type</th>\n",
       "      <th>seat_type</th>\n",
       "      <th>route</th>\n",
       "      <th>verified</th>\n",
       "      <th>corpus</th>\n",
       "    </tr>\n",
       "  </thead>\n",
       "  <tbody>\n",
       "    <tr>\n",
       "      <th>0</th>\n",
       "      <td>✅ Trip Verified |. The BA first lounge at Term...</td>\n",
       "      <td>E Michaels</td>\n",
       "      <td>5.0</td>\n",
       "      <td>22nd May 2023</td>\n",
       "      <td>United Kingdom</td>\n",
       "      <td>United Kingdom</td>\n",
       "      <td>May 2023</td>\n",
       "      <td>Business</td>\n",
       "      <td>Business Class</td>\n",
       "      <td>London Heathrow to Malaga</td>\n",
       "      <td>True</td>\n",
       "      <td>ba first lounge terminal zoo pm dirty table us...</td>\n",
       "    </tr>\n",
       "    <tr>\n",
       "      <th>1</th>\n",
       "      <td>Not Verified | Paid a quick visit to Nice yest...</td>\n",
       "      <td>Steve Bennett</td>\n",
       "      <td>2.0</td>\n",
       "      <td>22nd May 2023</td>\n",
       "      <td>United Kingdom</td>\n",
       "      <td>United Kingdom</td>\n",
       "      <td>May 2023</td>\n",
       "      <td>Couple Leisure</td>\n",
       "      <td>Business Class</td>\n",
       "      <td>London to Nice</td>\n",
       "      <td>False</td>\n",
       "      <td>verified paid quick visit nice yesterday heath...</td>\n",
       "    </tr>\n",
       "    <tr>\n",
       "      <th>2</th>\n",
       "      <td>✅ Trip Verified |  Words fail to describe this...</td>\n",
       "      <td>N Mayle</td>\n",
       "      <td>4.0</td>\n",
       "      <td>19th May 2023</td>\n",
       "      <td>United States</td>\n",
       "      <td>United States</td>\n",
       "      <td>September 2022</td>\n",
       "      <td>Solo Leisure</td>\n",
       "      <td>Business Class</td>\n",
       "      <td>London to San Francisco</td>\n",
       "      <td>True</td>\n",
       "      <td>word fail describe last awful flight baby acro...</td>\n",
       "    </tr>\n",
       "    <tr>\n",
       "      <th>3</th>\n",
       "      <td>✅ Trip Verified |  Absolutely terrible experie...</td>\n",
       "      <td>E Heale</td>\n",
       "      <td>2.0</td>\n",
       "      <td>17th May 2023</td>\n",
       "      <td>United States</td>\n",
       "      <td>United States</td>\n",
       "      <td>April 2023</td>\n",
       "      <td>Solo Leisure</td>\n",
       "      <td>Economy Class</td>\n",
       "      <td>London to Dallas</td>\n",
       "      <td>True</td>\n",
       "      <td>absolutely terrible experience app would let c...</td>\n",
       "    </tr>\n",
       "    <tr>\n",
       "      <th>4</th>\n",
       "      <td>✅ Trip Verified | BA overbook every flight to ...</td>\n",
       "      <td>H Mike</td>\n",
       "      <td>1.0</td>\n",
       "      <td>17th May 2023</td>\n",
       "      <td>United Kingdom</td>\n",
       "      <td>United Kingdom</td>\n",
       "      <td>May 2023</td>\n",
       "      <td>Business</td>\n",
       "      <td>Economy Class</td>\n",
       "      <td>London to Madrid</td>\n",
       "      <td>True</td>\n",
       "      <td>ba overbook every flight maximise income regar...</td>\n",
       "    </tr>\n",
       "  </tbody>\n",
       "</table>\n",
       "</div>"
      ],
      "text/plain": [
       "                                             reviews           name  stars   \n",
       "0  ✅ Trip Verified |. The BA first lounge at Term...     E Michaels    5.0  \\\n",
       "1  Not Verified | Paid a quick visit to Nice yest...  Steve Bennett    2.0   \n",
       "2  ✅ Trip Verified |  Words fail to describe this...        N Mayle    4.0   \n",
       "3  ✅ Trip Verified |  Absolutely terrible experie...        E Heale    2.0   \n",
       "4  ✅ Trip Verified | BA overbook every flight to ...        H Mike     1.0   \n",
       "\n",
       "  date_of_review         country       locations  date_of_travel   \n",
       "0  22nd May 2023  United Kingdom  United Kingdom        May 2023  \\\n",
       "1  22nd May 2023  United Kingdom  United Kingdom        May 2023   \n",
       "2  19th May 2023   United States   United States  September 2022   \n",
       "3  17th May 2023   United States   United States      April 2023   \n",
       "4  17th May 2023  United Kingdom  United Kingdom        May 2023   \n",
       "\n",
       "      travel_type       seat_type                      route   verified   \n",
       "0        Business  Business Class  London Heathrow to Malaga       True  \\\n",
       "1  Couple Leisure  Business Class              London to Nice     False   \n",
       "2    Solo Leisure  Business Class     London to San Francisco      True   \n",
       "3    Solo Leisure   Economy Class            London to Dallas      True   \n",
       "4        Business   Economy Class            London to Madrid      True   \n",
       "\n",
       "                                              corpus  \n",
       "0  ba first lounge terminal zoo pm dirty table us...  \n",
       "1  verified paid quick visit nice yesterday heath...  \n",
       "2  word fail describe last awful flight baby acro...  \n",
       "3  absolutely terrible experience app would let c...  \n",
       "4  ba overbook every flight maximise income regar...  "
      ]
     },
     "execution_count": 30,
     "metadata": {},
     "output_type": "execute_result"
    }
   ],
   "source": [
    "df.head()"
   ]
  },
  {
   "attachments": {},
   "cell_type": "markdown",
   "metadata": {},
   "source": [
    "We will clean and format the date column in the dataset to ensure consistency and ease of analysis."
   ]
  },
  {
   "cell_type": "code",
   "execution_count": 31,
   "metadata": {},
   "outputs": [
    {
     "data": {
      "text/plain": [
       "reviews            object\n",
       "name               object\n",
       "stars             float64\n",
       "date_of_review     object\n",
       "country            object\n",
       "locations          object\n",
       "date_of_travel     object\n",
       "travel_type        object\n",
       "seat_type          object\n",
       "route              object\n",
       "verified             bool\n",
       "corpus             object\n",
       "dtype: object"
      ]
     },
     "execution_count": 31,
     "metadata": {},
     "output_type": "execute_result"
    }
   ],
   "source": [
    "df.dtypes"
   ]
  },
  {
   "cell_type": "code",
   "execution_count": 32,
   "metadata": {},
   "outputs": [],
   "source": [
    "# convert the date to datetime format\n",
    "\n",
    "df.date_of_review = pd.to_datetime(df.date_of_review, format=\"mixed\")\n",
    "df.date_of_travel = pd.to_datetime(df.date_of_travel, format=\"mixed\")"
   ]
  },
  {
   "cell_type": "code",
   "execution_count": 33,
   "metadata": {},
   "outputs": [
    {
     "data": {
      "text/plain": [
       "0   2023-05-22\n",
       "1   2023-05-22\n",
       "2   2023-05-19\n",
       "3   2023-05-17\n",
       "4   2023-05-17\n",
       "Name: date_of_review, dtype: datetime64[ns]"
      ]
     },
     "execution_count": 33,
     "metadata": {},
     "output_type": "execute_result"
    }
   ],
   "source": [
    "df.date_of_review.head(5)\n"
   ]
  },
  {
   "cell_type": "code",
   "execution_count": 34,
   "metadata": {},
   "outputs": [
    {
     "data": {
      "text/plain": [
       "0   2023-05-01\n",
       "1   2023-05-01\n",
       "2   2022-09-01\n",
       "3   2023-04-01\n",
       "4   2023-05-01\n",
       "Name: date_of_travel, dtype: datetime64[ns]"
      ]
     },
     "execution_count": 34,
     "metadata": {},
     "output_type": "execute_result"
    }
   ],
   "source": [
    "df.date_of_travel.head(5)"
   ]
  },
  {
   "attachments": {},
   "cell_type": "markdown",
   "metadata": {},
   "source": [
    "Cleaning ratings with stars"
   ]
  },
  {
   "cell_type": "code",
   "execution_count": 35,
   "metadata": {},
   "outputs": [],
   "source": [
    "#check for unique values\n",
    "df.stars.unique()\n",
    "# remove the \\t and \\n from the ratings\n",
    "df.stars = df.stars.astype(str)\n",
    "df.stars = df.stars.str.strip(\"\\n\\t\\t\\t\\t\\t\\t\\t\\t\\t\\t\\t\\t\\t\")"
   ]
  },
  {
   "cell_type": "code",
   "execution_count": 36,
   "metadata": {},
   "outputs": [
    {
     "data": {
      "text/plain": [
       "stars\n",
       "1.0     757\n",
       "5.0     528\n",
       "2.0     374\n",
       "3.0     369\n",
       "8.0     321\n",
       "10.0    279\n",
       "7.0     269\n",
       "9.0     264\n",
       "4.0     223\n",
       "6.0     162\n",
       "nan       4\n",
       "Name: count, dtype: int64"
      ]
     },
     "execution_count": 36,
     "metadata": {},
     "output_type": "execute_result"
    }
   ],
   "source": [
    "df.stars.value_counts()"
   ]
  },
  {
   "attachments": {},
   "cell_type": "markdown",
   "metadata": {},
   "source": [
    "There are 4 rows having values \"nan\" in the ratings. We will drop all these 5 rows."
   ]
  },
  {
   "cell_type": "code",
   "execution_count": 37,
   "metadata": {},
   "outputs": [],
   "source": [
    "# drop the rows where the value of ratings is None\n",
    "df.drop(df[df.stars == \"nan\"].index, axis=0, inplace=True)"
   ]
  },
  {
   "cell_type": "code",
   "execution_count": 38,
   "metadata": {},
   "outputs": [
    {
     "data": {
      "text/plain": [
       "array(['5.0', '2.0', '4.0', '1.0', '3.0', '10.0', '9.0', '7.0', '8.0',\n",
       "       '6.0'], dtype=object)"
      ]
     },
     "execution_count": 38,
     "metadata": {},
     "output_type": "execute_result"
    }
   ],
   "source": [
    "#check the unique values again\n",
    "df.stars.unique()"
   ]
  },
  {
   "attachments": {},
   "cell_type": "markdown",
   "metadata": {},
   "source": [
    "cleaning for null Values\n"
   ]
  },
  {
   "cell_type": "code",
   "execution_count": 39,
   "metadata": {},
   "outputs": [
    {
     "data": {
      "text/plain": [
       "reviews  name   stars  date_of_review  country  locations  date_of_travel  travel_type  seat_type  route   verified  corpus\n",
       "False    False  False  False           False    False      False           False        False      False   False     False     2764\n",
       "                                                           True            True         False      True    False     False      762\n",
       "                                                                           False        False      False   False     False        8\n",
       "                                                           False           False        False      True    False     False        5\n",
       "                                                                           True         False      False   False     False        2\n",
       "                                                           True            False        False      True    False     False        2\n",
       "                                       True     True       True            True         False      True    False     False        2\n",
       "                                       False    False      False           False        True       False   False     False        1\n",
       "Name: count, dtype: int64"
      ]
     },
     "execution_count": 39,
     "metadata": {},
     "output_type": "execute_result"
    }
   ],
   "source": [
    "df.isnull().value_counts()"
   ]
  },
  {
   "cell_type": "code",
   "execution_count": 40,
   "metadata": {},
   "outputs": [
    {
     "data": {
      "text/plain": [
       "country\n",
       "False    3544\n",
       "True        2\n",
       "Name: count, dtype: int64"
      ]
     },
     "execution_count": 40,
     "metadata": {},
     "output_type": "execute_result"
    }
   ],
   "source": [
    "df.country.isnull().value_counts()"
   ]
  },
  {
   "cell_type": "code",
   "execution_count": 41,
   "metadata": {},
   "outputs": [],
   "source": [
    "#drop the rows using index where the country value is null\n",
    "df.drop(df[df.country.isnull() == True].index, axis=0, inplace=True)"
   ]
  },
  {
   "cell_type": "code",
   "execution_count": 42,
   "metadata": {},
   "outputs": [
    {
     "data": {
      "text/plain": [
       "(3544, 12)"
      ]
     },
     "execution_count": 42,
     "metadata": {},
     "output_type": "execute_result"
    }
   ],
   "source": [
    "df.shape"
   ]
  },
  {
   "cell_type": "code",
   "execution_count": 43,
   "metadata": {},
   "outputs": [
    {
     "data": {
      "text/html": [
       "<div>\n",
       "<style scoped>\n",
       "    .dataframe tbody tr th:only-of-type {\n",
       "        vertical-align: middle;\n",
       "    }\n",
       "\n",
       "    .dataframe tbody tr th {\n",
       "        vertical-align: top;\n",
       "    }\n",
       "\n",
       "    .dataframe thead th {\n",
       "        text-align: right;\n",
       "    }\n",
       "</style>\n",
       "<table border=\"1\" class=\"dataframe\">\n",
       "  <thead>\n",
       "    <tr style=\"text-align: right;\">\n",
       "      <th></th>\n",
       "      <th>reviews</th>\n",
       "      <th>name</th>\n",
       "      <th>stars</th>\n",
       "      <th>date_of_review</th>\n",
       "      <th>country</th>\n",
       "      <th>locations</th>\n",
       "      <th>date_of_travel</th>\n",
       "      <th>travel_type</th>\n",
       "      <th>seat_type</th>\n",
       "      <th>route</th>\n",
       "      <th>verified</th>\n",
       "      <th>corpus</th>\n",
       "    </tr>\n",
       "  </thead>\n",
       "  <tbody>\n",
       "    <tr>\n",
       "      <th>0</th>\n",
       "      <td>✅ Trip Verified |. The BA first lounge at Term...</td>\n",
       "      <td>E Michaels</td>\n",
       "      <td>5.0</td>\n",
       "      <td>2023-05-22</td>\n",
       "      <td>United Kingdom</td>\n",
       "      <td>United Kingdom</td>\n",
       "      <td>2023-05-01</td>\n",
       "      <td>Business</td>\n",
       "      <td>Business Class</td>\n",
       "      <td>London Heathrow to Malaga</td>\n",
       "      <td>True</td>\n",
       "      <td>ba first lounge terminal zoo pm dirty table us...</td>\n",
       "    </tr>\n",
       "    <tr>\n",
       "      <th>1</th>\n",
       "      <td>Not Verified | Paid a quick visit to Nice yest...</td>\n",
       "      <td>Steve Bennett</td>\n",
       "      <td>2.0</td>\n",
       "      <td>2023-05-22</td>\n",
       "      <td>United Kingdom</td>\n",
       "      <td>United Kingdom</td>\n",
       "      <td>2023-05-01</td>\n",
       "      <td>Couple Leisure</td>\n",
       "      <td>Business Class</td>\n",
       "      <td>London to Nice</td>\n",
       "      <td>False</td>\n",
       "      <td>verified paid quick visit nice yesterday heath...</td>\n",
       "    </tr>\n",
       "    <tr>\n",
       "      <th>2</th>\n",
       "      <td>✅ Trip Verified |  Words fail to describe this...</td>\n",
       "      <td>N Mayle</td>\n",
       "      <td>4.0</td>\n",
       "      <td>2023-05-19</td>\n",
       "      <td>United States</td>\n",
       "      <td>United States</td>\n",
       "      <td>2022-09-01</td>\n",
       "      <td>Solo Leisure</td>\n",
       "      <td>Business Class</td>\n",
       "      <td>London to San Francisco</td>\n",
       "      <td>True</td>\n",
       "      <td>word fail describe last awful flight baby acro...</td>\n",
       "    </tr>\n",
       "    <tr>\n",
       "      <th>3</th>\n",
       "      <td>✅ Trip Verified |  Absolutely terrible experie...</td>\n",
       "      <td>E Heale</td>\n",
       "      <td>2.0</td>\n",
       "      <td>2023-05-17</td>\n",
       "      <td>United States</td>\n",
       "      <td>United States</td>\n",
       "      <td>2023-04-01</td>\n",
       "      <td>Solo Leisure</td>\n",
       "      <td>Economy Class</td>\n",
       "      <td>London to Dallas</td>\n",
       "      <td>True</td>\n",
       "      <td>absolutely terrible experience app would let c...</td>\n",
       "    </tr>\n",
       "    <tr>\n",
       "      <th>4</th>\n",
       "      <td>✅ Trip Verified | BA overbook every flight to ...</td>\n",
       "      <td>H Mike</td>\n",
       "      <td>1.0</td>\n",
       "      <td>2023-05-17</td>\n",
       "      <td>United Kingdom</td>\n",
       "      <td>United Kingdom</td>\n",
       "      <td>2023-05-01</td>\n",
       "      <td>Business</td>\n",
       "      <td>Economy Class</td>\n",
       "      <td>London to Madrid</td>\n",
       "      <td>True</td>\n",
       "      <td>ba overbook every flight maximise income regar...</td>\n",
       "    </tr>\n",
       "    <tr>\n",
       "      <th>...</th>\n",
       "      <td>...</td>\n",
       "      <td>...</td>\n",
       "      <td>...</td>\n",
       "      <td>...</td>\n",
       "      <td>...</td>\n",
       "      <td>...</td>\n",
       "      <td>...</td>\n",
       "      <td>...</td>\n",
       "      <td>...</td>\n",
       "      <td>...</td>\n",
       "      <td>...</td>\n",
       "      <td>...</td>\n",
       "    </tr>\n",
       "    <tr>\n",
       "      <th>3539</th>\n",
       "      <td>This was a bmi Regional operated flight on a R...</td>\n",
       "      <td>J Robertson</td>\n",
       "      <td>9.0</td>\n",
       "      <td>2012-08-29</td>\n",
       "      <td>United Kingdom</td>\n",
       "      <td>United Kingdom</td>\n",
       "      <td>NaT</td>\n",
       "      <td>NaN</td>\n",
       "      <td>Economy Class</td>\n",
       "      <td>NaN</td>\n",
       "      <td>False</td>\n",
       "      <td>bmi regional operated flight rj manchester hea...</td>\n",
       "    </tr>\n",
       "    <tr>\n",
       "      <th>3540</th>\n",
       "      <td>LHR to HAM. Purser addresses all club passenge...</td>\n",
       "      <td>Nick Berry</td>\n",
       "      <td>7.0</td>\n",
       "      <td>2012-08-28</td>\n",
       "      <td>United Kingdom</td>\n",
       "      <td>United Kingdom</td>\n",
       "      <td>NaT</td>\n",
       "      <td>NaN</td>\n",
       "      <td>Business Class</td>\n",
       "      <td>NaN</td>\n",
       "      <td>False</td>\n",
       "      <td>lhr ham purser address club passenger name boa...</td>\n",
       "    </tr>\n",
       "    <tr>\n",
       "      <th>3541</th>\n",
       "      <td>My son who had worked for British Airways urge...</td>\n",
       "      <td>Avril Barclay</td>\n",
       "      <td>1.0</td>\n",
       "      <td>2011-10-12</td>\n",
       "      <td>United Kingdom</td>\n",
       "      <td>United Kingdom</td>\n",
       "      <td>NaT</td>\n",
       "      <td>NaN</td>\n",
       "      <td>Economy Class</td>\n",
       "      <td>NaN</td>\n",
       "      <td>False</td>\n",
       "      <td>son worked british airway urged fly british ai...</td>\n",
       "    </tr>\n",
       "    <tr>\n",
       "      <th>3542</th>\n",
       "      <td>London City-New York JFK via Shannon on A318 b...</td>\n",
       "      <td>C Volz</td>\n",
       "      <td>2.0</td>\n",
       "      <td>2011-10-11</td>\n",
       "      <td>United States</td>\n",
       "      <td>United States</td>\n",
       "      <td>NaT</td>\n",
       "      <td>NaN</td>\n",
       "      <td>Premium Economy</td>\n",
       "      <td>NaN</td>\n",
       "      <td>False</td>\n",
       "      <td>london city new york jfk via shannon really ni...</td>\n",
       "    </tr>\n",
       "    <tr>\n",
       "      <th>3543</th>\n",
       "      <td>SIN-LHR BA12 B747-436 First Class. Old aircraf...</td>\n",
       "      <td>Russ King</td>\n",
       "      <td>1.0</td>\n",
       "      <td>2011-10-09</td>\n",
       "      <td>United Kingdom</td>\n",
       "      <td>United Kingdom</td>\n",
       "      <td>NaT</td>\n",
       "      <td>NaN</td>\n",
       "      <td>First Class</td>\n",
       "      <td>NaN</td>\n",
       "      <td>False</td>\n",
       "      <td>sin lhr ba b first class old aircraft seat pri...</td>\n",
       "    </tr>\n",
       "  </tbody>\n",
       "</table>\n",
       "<p>3544 rows × 12 columns</p>\n",
       "</div>"
      ],
      "text/plain": [
       "                                                reviews           name stars   \n",
       "0     ✅ Trip Verified |. The BA first lounge at Term...     E Michaels   5.0  \\\n",
       "1     Not Verified | Paid a quick visit to Nice yest...  Steve Bennett   2.0   \n",
       "2     ✅ Trip Verified |  Words fail to describe this...        N Mayle   4.0   \n",
       "3     ✅ Trip Verified |  Absolutely terrible experie...        E Heale   2.0   \n",
       "4     ✅ Trip Verified | BA overbook every flight to ...        H Mike    1.0   \n",
       "...                                                 ...            ...   ...   \n",
       "3539  This was a bmi Regional operated flight on a R...    J Robertson   9.0   \n",
       "3540  LHR to HAM. Purser addresses all club passenge...     Nick Berry   7.0   \n",
       "3541  My son who had worked for British Airways urge...  Avril Barclay   1.0   \n",
       "3542  London City-New York JFK via Shannon on A318 b...         C Volz   2.0   \n",
       "3543  SIN-LHR BA12 B747-436 First Class. Old aircraf...      Russ King   1.0   \n",
       "\n",
       "     date_of_review         country       locations date_of_travel   \n",
       "0        2023-05-22  United Kingdom  United Kingdom     2023-05-01  \\\n",
       "1        2023-05-22  United Kingdom  United Kingdom     2023-05-01   \n",
       "2        2023-05-19   United States   United States     2022-09-01   \n",
       "3        2023-05-17   United States   United States     2023-04-01   \n",
       "4        2023-05-17  United Kingdom  United Kingdom     2023-05-01   \n",
       "...             ...             ...             ...            ...   \n",
       "3539     2012-08-29  United Kingdom  United Kingdom            NaT   \n",
       "3540     2012-08-28  United Kingdom  United Kingdom            NaT   \n",
       "3541     2011-10-12  United Kingdom  United Kingdom            NaT   \n",
       "3542     2011-10-11   United States   United States            NaT   \n",
       "3543     2011-10-09  United Kingdom  United Kingdom            NaT   \n",
       "\n",
       "         travel_type        seat_type                      route   verified   \n",
       "0           Business   Business Class  London Heathrow to Malaga       True  \\\n",
       "1     Couple Leisure   Business Class              London to Nice     False   \n",
       "2       Solo Leisure   Business Class     London to San Francisco      True   \n",
       "3       Solo Leisure    Economy Class            London to Dallas      True   \n",
       "4           Business    Economy Class            London to Madrid      True   \n",
       "...              ...              ...                         ...       ...   \n",
       "3539             NaN    Economy Class                         NaN     False   \n",
       "3540             NaN   Business Class                         NaN     False   \n",
       "3541             NaN    Economy Class                         NaN     False   \n",
       "3542             NaN  Premium Economy                         NaN     False   \n",
       "3543             NaN      First Class                         NaN     False   \n",
       "\n",
       "                                                 corpus  \n",
       "0     ba first lounge terminal zoo pm dirty table us...  \n",
       "1     verified paid quick visit nice yesterday heath...  \n",
       "2     word fail describe last awful flight baby acro...  \n",
       "3     absolutely terrible experience app would let c...  \n",
       "4     ba overbook every flight maximise income regar...  \n",
       "...                                                 ...  \n",
       "3539  bmi regional operated flight rj manchester hea...  \n",
       "3540  lhr ham purser address club passenger name boa...  \n",
       "3541  son worked british airway urged fly british ai...  \n",
       "3542  london city new york jfk via shannon really ni...  \n",
       "3543  sin lhr ba b first class old aircraft seat pri...  \n",
       "\n",
       "[3544 rows x 12 columns]"
      ]
     },
     "execution_count": 43,
     "metadata": {},
     "output_type": "execute_result"
    }
   ],
   "source": [
    "#resetting the index\n",
    "df.reset_index(drop=True)"
   ]
  },
  {
   "cell_type": "code",
   "execution_count": 44,
   "metadata": {},
   "outputs": [],
   "source": [
    "# export the cleaned data\n",
    "\n",
    "df.to_csv(cwd + \"/cleaned_BA_reviews.csv\")"
   ]
  }
 ],
 "metadata": {
  "kernelspec": {
   "display_name": "Python 3",
   "language": "python",
   "name": "python3"
  },
  "language_info": {
   "codemirror_mode": {
    "name": "ipython",
    "version": 3
   },
   "file_extension": ".py",
   "mimetype": "text/x-python",
   "name": "python",
   "nbconvert_exporter": "python",
   "pygments_lexer": "ipython3",
   "version": "3.10.4"
  },
  "orig_nbformat": 4
 },
 "nbformat": 4,
 "nbformat_minor": 2
}
